{
 "cells": [
  {
   "cell_type": "code",
   "execution_count": 3,
   "metadata": {},
   "outputs": [],
   "source": [
    "from typing import Tuple\n",
    "from pathlib import Path\n",
    "from tqdm.notebook import tqdm\n",
    "\n",
    "import numpy as np\n",
    "import matplotlib.pyplot as plt\n",
    "\n",
    "import torch\n",
    "from torch import nn, optim\n",
    "import torch.nn.functional as F\n",
    "from torch.utils.data import Dataset, random_split, DataLoader"
   ]
  },
  {
   "cell_type": "code",
   "execution_count": 4,
   "metadata": {},
   "outputs": [],
   "source": [
    "import os, sys\n",
    "sys.path.append(os.path.abspath('..'))\n",
    "\n",
    "from src.models.unet import UNet\n",
    "from src.training.metrics import evaluate, dice_loss, dice\n",
    "from src.training.train import train\n",
    "from src.data.datasets import ACDCDataset"
   ]
  },
  {
   "cell_type": "code",
   "execution_count": 10,
   "metadata": {},
   "outputs": [
    {
     "name": "stderr",
     "output_type": "stream",
     "text": [
      "Processing patient002...: 100%|██████████| 100/100 [00:41<00:00,  2.39it/s]\n"
     ]
    },
    {
     "name": "stdout",
     "output_type": "stream",
     "text": [
      "Saved dataset of 952 images to /worskpace/dev/tagroi/checkpoints/acdc_dataset_cine.pt\n"
     ]
    }
   ],
   "source": [
    "dataset = ACDCDataset(path='../../training/', recompute=True, tagged=False, verbose=1)"
   ]
  },
  {
   "cell_type": "code",
   "execution_count": 4,
   "metadata": {},
   "outputs": [],
   "source": [
    "train_set, val_set, _ = random_split(dataset, [8, 4, 940], generator=torch.Generator().manual_seed(42))\n",
    "loader_train = DataLoader(train_set, batch_size=4, shuffle=True)\n",
    "loader_val = DataLoader(val_set, batch_size=4, shuffle=False)"
   ]
  },
  {
   "cell_type": "code",
   "execution_count": 5,
   "metadata": {},
   "outputs": [],
   "source": [
    "device = torch.device('cuda' if torch.cuda.is_available() else 'cpu')\n",
    "\n",
    "model = UNet(n_channels=1, n_classes=4, bilinear=True).double()\n",
    "\n",
    "if device.type == 'cuda':\n",
    "    model = nn.DataParallel(model).to(device)\n",
    "    model.n_classes = model.module.n_classes"
   ]
  },
  {
   "cell_type": "code",
   "execution_count": 6,
   "metadata": {},
   "outputs": [],
   "source": [
    "learning_rate = 1e-1\n",
    "weight_decay = 1e-3\n",
    "momentum = .9\n",
    "amp = True"
   ]
  },
  {
   "cell_type": "code",
   "execution_count": 7,
   "metadata": {},
   "outputs": [],
   "source": [
    "criterion = nn.CrossEntropyLoss()\n",
    "optimizer = torch.optim.RMSprop(model.parameters(), lr=learning_rate, weight_decay=weight_decay,\n",
    "                                momentum=momentum)\n",
    "scheduler = torch.optim.lr_scheduler.ReduceLROnPlateau(optimizer, 'max', patience=2)\n",
    "grad_scaler = torch.cuda.amp.GradScaler(enabled=amp)"
   ]
  },
  {
   "cell_type": "code",
   "execution_count": 8,
   "metadata": {},
   "outputs": [
    {
     "data": {
      "application/vnd.jupyter.widget-view+json": {
       "model_id": "98ad3c9f69a4429f8d4d4ff4f353bf41",
       "version_major": 2,
       "version_minor": 0
      },
      "text/plain": [
       "  0%|          | 0/2 [00:00<?, ?batch/s]"
      ]
     },
     "metadata": {},
     "output_type": "display_data"
    },
    {
     "name": "stderr",
     "output_type": "stream",
     "text": []
    },
    {
     "name": "stdout",
     "output_type": "stream",
     "text": [
      "Epoch 000 \t Loss 6.9501 \t Dice 0.1680\t Val. Dice 0.2463\n"
     ]
    },
    {
     "data": {
      "application/vnd.jupyter.widget-view+json": {
       "model_id": "0769c65ea7ff421895d6cef323609101",
       "version_major": 2,
       "version_minor": 0
      },
      "text/plain": [
       "  0%|          | 0/2 [00:00<?, ?batch/s]"
      ]
     },
     "metadata": {},
     "output_type": "display_data"
    },
    {
     "name": "stderr",
     "output_type": "stream",
     "text": [
      "\n",
      "\u001b[A\n",
      "\u001b[A\n",
      "\u001b[A"
     ]
    },
    {
     "name": "stdout",
     "output_type": "stream",
     "text": [
      "Epoch 001 \t Loss 9.4449 \t Dice 0.2440\t Val. Dice 0.2463\n"
     ]
    },
    {
     "data": {
      "application/vnd.jupyter.widget-view+json": {
       "model_id": "a0bec24e3c9e4675807aa23608b7c23c",
       "version_major": 2,
       "version_minor": 0
      },
      "text/plain": [
       "  0%|          | 0/2 [00:00<?, ?batch/s]"
      ]
     },
     "metadata": {},
     "output_type": "display_data"
    },
    {
     "name": "stderr",
     "output_type": "stream",
     "text": [
      "\n",
      "\n",
      "\u001b[A\u001b[A\n",
      "\n",
      "\u001b[A\u001b[A\n",
      "\n",
      "\u001b[A\u001b[A"
     ]
    },
    {
     "name": "stdout",
     "output_type": "stream",
     "text": [
      "Epoch 002 \t Loss 3.5048 \t Dice 0.2440\t Val. Dice 0.2463\n"
     ]
    },
    {
     "data": {
      "application/vnd.jupyter.widget-view+json": {
       "model_id": "81b9d0f5181e41ac8755e429d69b41bf",
       "version_major": 2,
       "version_minor": 0
      },
      "text/plain": [
       "  0%|          | 0/2 [00:00<?, ?batch/s]"
      ]
     },
     "metadata": {},
     "output_type": "display_data"
    },
    {
     "name": "stderr",
     "output_type": "stream",
     "text": [
      "\n",
      "\n",
      "\n",
      "\u001b[A\u001b[A\u001b[A\n",
      "\n",
      "\n",
      "\u001b[A\u001b[A\u001b[A\n",
      "\n",
      "\n",
      "\u001b[A\u001b[A\u001b[A"
     ]
    },
    {
     "name": "stdout",
     "output_type": "stream",
     "text": [
      "Epoch 003 \t Loss 4.7997 \t Dice 0.2440\t Val. Dice 0.2463\n"
     ]
    }
   ],
   "source": [
    "for epoch in range(4):\n",
    "    \n",
    "    dice_score = torch.zeros(4)\n",
    "    acc_loss = 0.\n",
    "\n",
    "    model.train()\n",
    "\n",
    "    batch_pbar = tqdm(loader_train, total=len(loader_train), unit='batch', leave=False)\n",
    "    for inputs, targets in loader_train:\n",
    "\n",
    "        batch_pbar.set_description(f'Acummulated loss: {acc_loss:.4f}')\n",
    "        # move to device\n",
    "        # target is index of classes\n",
    "        inputs, targets = inputs.double().to(device), targets.long().to(device)\n",
    "        \n",
    "        with torch.cuda.amp.autocast(enabled=amp):\n",
    "            outputs = model(inputs)\n",
    "            loss = criterion(outputs, targets) + \\\n",
    "                dice_loss(F.softmax(outputs, dim=1), targets, exclude_bg=True)\n",
    "\n",
    "            optimizer.zero_grad(set_to_none=True)\n",
    "            grad_scaler.scale(loss).backward()\n",
    "            grad_scaler.step(optimizer)\n",
    "            grad_scaler.update()\n",
    "\n",
    "        dice_score += dice(F.softmax(outputs, dim=1), targets)\n",
    "        acc_loss += loss.item()\n",
    "\n",
    "    # Tracking training performance\n",
    "    train_perf = dice_score / len(loader_train)\n",
    "    avg_dice = train_perf.mean()\n",
    "\n",
    "    status = f'Epoch {epoch:03} \\t Loss {acc_loss:.4f} \\t Dice {avg_dice:.4f}'\n",
    "    \n",
    "    # Tracking validation performance\n",
    "    val_perf = evaluate(model, loader_val, device)\n",
    "    avg_val_dice = val_perf.mean()\n",
    "    scheduler.step(avg_val_dice)\n",
    "\n",
    "    status += f'\\t Val. Dice {avg_val_dice:.4f}'\n",
    "\n",
    "    print(status)"
   ]
  },
  {
   "cell_type": "code",
   "execution_count": null,
   "metadata": {},
   "outputs": [],
   "source": []
  }
 ],
 "metadata": {
  "interpreter": {
   "hash": "0ad42e69c0d21e96d3d26e0b34570ca4969313104102badd5550b873ed7930ce"
  },
  "kernelspec": {
   "display_name": "Python 3.8.12 ('tagroi')",
   "language": "python",
   "name": "python3"
  },
  "language_info": {
   "codemirror_mode": {
    "name": "ipython",
    "version": 3
   },
   "file_extension": ".py",
   "mimetype": "text/x-python",
   "name": "python",
   "nbconvert_exporter": "python",
   "pygments_lexer": "ipython3",
   "version": "3.8.12"
  },
  "orig_nbformat": 4
 },
 "nbformat": 4,
 "nbformat_minor": 2
}
